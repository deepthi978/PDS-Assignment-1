{
 "cells": [
  {
   "cell_type": "code",
   "execution_count": 6,
   "id": "f8f04533",
   "metadata": {},
   "outputs": [
    {
     "name": "stdout",
     "output_type": "stream",
     "text": [
      "Preprocessed Data:\n",
      "     Height    Weight       Age  Grip strength  Frailty\n",
      "0 -1.766641 -1.473912 -0.204911       0.932505        0\n",
      "1  1.829735  0.303670 -1.106520       1.165631        0\n",
      "2  0.504754  1.562791  1.024556       0.699379        0\n",
      "3 -0.252377  0.748066 -0.860627       0.466252        1\n",
      "4 -0.504754  0.896198 -0.286876      -0.466252        1\n",
      "5  0.063094 -0.659187  1.434378       0.000000        0\n",
      "6  0.757132  0.674000  1.516343      -0.932505        1\n",
      "7  0.946415  0.303670 -0.778662      -1.398757        1\n",
      "8 -0.441660 -1.473912 -1.270449      -1.631883        0\n",
      "9 -1.135698 -0.881385  0.532769       1.165631        0\n"
     ]
    }
   ],
   "source": [
    "import pandas as pd\n",
    "from sklearn.model_selection import train_test_split\n",
    "from sklearn.preprocessing import StandardScaler, LabelEncoder\n",
    "\n",
    "\n",
    "# Load the raw data from the CSV file\n",
    "raw_data = pd.read_csv(\"raw_data.csv\")\n",
    "\n",
    "# Step 1: Handling Missing Values (No missing values in the provided data)\n",
    "\n",
    "# Step 2: Encoding Categorical Data\n",
    "label_encoder = LabelEncoder()\n",
    "raw_data['Frailty'] = label_encoder.fit_transform(raw_data['Frailty'])  # Encode 'Frailty' (N -> 0, Y -> 1)\n",
    "\n",
    "# Step 3: Feature Scaling\n",
    "scaler = StandardScaler()\n",
    "numeric_cols = ['Height', 'Weight', 'Age', 'Grip strength']\n",
    "raw_data[numeric_cols] = scaler.fit_transform(raw_data[numeric_cols])\n",
    "\n",
    "# Step 4: Data Splitting (80% training, 20% testing)\n",
    "X = raw_data.drop('Frailty', axis=1)\n",
    "y = raw_data['Frailty']\n",
    "X_train, X_test, y_train, y_test = train_test_split(X, y, test_size=0.2, random_state=42)\n",
    "\n",
    "# Display the preprocessed data\n",
    "print(\"Preprocessed Data:\")\n",
    "print(raw_data)\n",
    "\n",
    "# Save the cleaned data\n",
    "raw_data.to_csv(\"cleaned_data.csv\", index=False)"
   ]
  }
 ],
 "metadata": {
  "kernelspec": {
   "display_name": "Python 3 (ipykernel)",
   "language": "python",
   "name": "python3"
  },
  "language_info": {
   "codemirror_mode": {
    "name": "ipython",
    "version": 3
   },
   "file_extension": ".py",
   "mimetype": "text/x-python",
   "name": "python",
   "nbconvert_exporter": "python",
   "pygments_lexer": "ipython3",
   "version": "3.11.5"
  }
 },
 "nbformat": 4,
 "nbformat_minor": 5
}
