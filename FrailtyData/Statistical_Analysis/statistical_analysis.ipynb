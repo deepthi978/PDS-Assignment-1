{
 "cells": [
  {
   "cell_type": "code",
   "execution_count": 3,
   "id": "d0794fe9",
   "metadata": {},
   "outputs": [
    {
     "name": "stdout",
     "output_type": "stream",
     "text": [
      "                            OLS Regression Results                            \n",
      "==============================================================================\n",
      "Dep. Variable:          Grip strength   R-squared:                       0.061\n",
      "Model:                            OLS   Adj. R-squared:                 -0.408\n",
      "Method:                 Least Squares   F-statistic:                    0.1300\n",
      "Date:                Tue, 26 Sep 2023   Prob (F-statistic):              0.939\n",
      "Time:                        19:15:22   Log-Likelihood:                -13.874\n",
      "No. Observations:                  10   AIC:                             35.75\n",
      "Df Residuals:                       6   BIC:                             36.96\n",
      "Df Model:                           3                                         \n",
      "Covariance Type:            nonrobust                                         \n",
      "==============================================================================\n",
      "                 coef    std err          t      P>|t|      [0.025      0.975]\n",
      "------------------------------------------------------------------------------\n",
      "const       4.025e-17      0.396   1.02e-16      1.000      -0.968       0.968\n",
      "Age            0.0945      0.409      0.231      0.825      -0.907       1.096\n",
      "Height        -0.2570      0.490     -0.525      0.619      -1.455       0.941\n",
      "Weight         0.1616      0.499      0.324      0.757      -1.058       1.382\n",
      "==============================================================================\n",
      "Omnibus:                        0.857   Durbin-Watson:                   1.131\n",
      "Prob(Omnibus):                  0.652   Jarque-Bera (JB):                0.602\n",
      "Skew:                           0.093   Prob(JB):                        0.740\n",
      "Kurtosis:                       1.812   Cond. No.                         2.03\n",
      "==============================================================================\n",
      "\n",
      "Notes:\n",
      "[1] Standard Errors assume that the covariance matrix of the errors is correctly specified.\n"
     ]
    },
    {
     "name": "stderr",
     "output_type": "stream",
     "text": [
      "/Library/Frameworks/Python.framework/Versions/3.11/lib/python3.11/site-packages/scipy/stats/_stats_py.py:1806: UserWarning: kurtosistest only valid for n>=20 ... continuing anyway, n=10\n",
      "  warnings.warn(\"kurtosistest only valid for n>=20 ... continuing \"\n",
      "/Library/Frameworks/Python.framework/Versions/3.11/lib/python3.11/site-packages/scipy/stats/_stats_py.py:1806: UserWarning: kurtosistest only valid for n>=20 ... continuing anyway, n=10\n",
      "  warnings.warn(\"kurtosistest only valid for n>=20 ... continuing \"\n"
     ]
    }
   ],
   "source": [
    "import pandas as pd\n",
    "import statsmodels.api as sm\n",
    "\n",
    "# Load the cleaned data\n",
    "cleaned_data = pd.read_csv(\"../Data_Preprocessing/cleaned_data.csv\")\n",
    "\n",
    "# Perform multiple regression analysis\n",
    "X = cleaned_data[['Age', 'Height', 'Weight']]  # Include multiple predictors\n",
    "X = sm.add_constant(X)  # Add a constant term\n",
    "y = cleaned_data['Grip strength']\n",
    "\n",
    "model = sm.OLS(y, X).fit()\n",
    "print(model.summary())\n",
    "\n",
    "# Save the analysis report\n",
    "with open(\"reports/multiple_regression_report.txt\", 'w') as report_file:\n",
    "    report_file.write(str(model.summary()))\n"
   ]
  }
 ],
 "metadata": {
  "kernelspec": {
   "display_name": "Python 3 (ipykernel)",
   "language": "python",
   "name": "python3"
  },
  "language_info": {
   "codemirror_mode": {
    "name": "ipython",
    "version": 3
   },
   "file_extension": ".py",
   "mimetype": "text/x-python",
   "name": "python",
   "nbconvert_exporter": "python",
   "pygments_lexer": "ipython3",
   "version": "3.11.5"
  }
 },
 "nbformat": 4,
 "nbformat_minor": 5
}
