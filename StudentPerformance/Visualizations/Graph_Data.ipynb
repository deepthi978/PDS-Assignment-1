{
 "cells": [
  {
   "cell_type": "code",
   "execution_count": 7,
   "metadata": {},
   "outputs": [
    {
     "name": "stdout",
     "output_type": "stream",
     "text": [
      "Visualizations saved as images in the 'images' folder.\n"
     ]
    }
   ],
   "source": [
    "import os\n",
    "import pandas as pd\n",
    "import seaborn as sns\n",
    "import matplotlib.pyplot as plt\n",
    "import warnings\n",
    "\n",
    "with warnings.catch_warnings():\n",
    "    warnings.filterwarnings(\"ignore\", category=FutureWarning)\n",
    "    # Create a folder to save the images\n",
    "    def create_folder(folder_name):\n",
    "        if not os.path.exists(folder_name):\n",
    "            os.mkdir(folder_name)\n",
    "\n",
    "    # Function to save a plot as an image\n",
    "    def save_plot_as_image(plt, folder, filename):\n",
    "        create_folder(folder)\n",
    "        plt.savefig(os.path.join(folder, filename))\n",
    "        plt.close()\n",
    "\n",
    "    data = pd.read_csv('../Data_Preprocessing/preprocessed_dataset.csv')\n",
    "\n",
    "    # Visualization 1: Histograms for Scores\n",
    "    plt.figure(figsize=(10, 6))\n",
    "    plt.hist(data['math score'], bins=20, edgecolor='k', alpha=0.7, label='Math')\n",
    "    plt.hist(data['reading score'], bins=20, edgecolor='k', alpha=0.7, label='Reading')\n",
    "    plt.hist(data['writing score'], bins=20, edgecolor='k', alpha=0.7, label='Writing')\n",
    "    plt.xlabel('Score')\n",
    "    plt.ylabel('Frequency')\n",
    "    plt.title('Distribution of Exam Scores')\n",
    "    plt.legend()\n",
    "    plt.tight_layout()\n",
    "    save_plot_as_image(plt, \"images\", \"exam_scores_distribution.png\")\n",
    "\n",
    "    # Visualization 2: Bar Plot for Gender\n",
    "    plt.figure(figsize=(8, 5))\n",
    "    sns.countplot(x='gender_male', data=data, palette='Set2')\n",
    "    plt.xlabel('Gender')\n",
    "    plt.ylabel('Count')\n",
    "    plt.title('Count of Male and Female Students')\n",
    "    plt.xticks([0, 1], ['Female', 'Male'])\n",
    "    plt.tight_layout()\n",
    "    save_plot_as_image(plt, \"images\", \"gender_distribution.png\")\n",
    "\n",
    "    # Visualization 3: Box Plot for Total Score by Gender\n",
    "    plt.figure(figsize=(10, 6))\n",
    "    sns.boxplot(x='gender_male', y='total score', data=data, palette='Pastel1')\n",
    "    plt.xlabel('Gender')\n",
    "    plt.ylabel('Total Score')\n",
    "    plt.title('Box Plot of Total Score by Gender')\n",
    "    plt.xticks([0, 1], ['Female', 'Male'])\n",
    "    plt.tight_layout()\n",
    "    save_plot_as_image(plt, \"images\", \"total_score_by_gender.png\")\n",
    "\n",
    "    # Visualization 4: Pair Plot\n",
    "    sns.set(style=\"ticks\")\n",
    "    sns.pairplot(data, hue=\"gender_male\", palette=\"Set1\")\n",
    "    plt.suptitle(\"Pair Plot of Student Performance\")\n",
    "    plt.tight_layout()\n",
    "    plt.subplots_adjust(top=0.9)\n",
    "    save_plot_as_image(plt, \"images\", \"pair_plot.png\")\n",
    "\n",
    "    # Visualization 5: Scatter Plot\n",
    "    plt.figure(figsize=(10, 6))\n",
    "    sns.scatterplot(x=\"math score\", y=\"reading score\", hue=\"gender_male\", data=data, palette=\"coolwarm\")\n",
    "    plt.xlabel(\"Math Score\")\n",
    "    plt.ylabel(\"Reading Score\")\n",
    "    plt.title(\"Scatter Plot of Math Score vs. Reading Score\")\n",
    "    plt.tight_layout()\n",
    "    save_plot_as_image(plt, \"images\", \"scatter_plot_math_vs_reading.png\")\n",
    "\n",
    "    # Display saved images\n",
    "    print(\"Visualizations saved as images in the 'images' folder.\")\n"
   ]
  }
 ],
 "metadata": {
  "kernelspec": {
   "display_name": "Python 3",
   "language": "python",
   "name": "python3"
  },
  "language_info": {
   "codemirror_mode": {
    "name": "ipython",
    "version": 3
   },
   "file_extension": ".py",
   "mimetype": "text/x-python",
   "name": "python",
   "nbconvert_exporter": "python",
   "pygments_lexer": "ipython3",
   "version": "3.11.5"
  },
  "orig_nbformat": 4
 },
 "nbformat": 4,
 "nbformat_minor": 2
}
