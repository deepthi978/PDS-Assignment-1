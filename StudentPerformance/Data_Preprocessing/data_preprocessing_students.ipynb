{
 "cells": [
  {
   "cell_type": "code",
   "execution_count": 1,
   "id": "f1304e8f",
   "metadata": {},
   "outputs": [
    {
     "name": "stdout",
     "output_type": "stream",
     "text": [
      "Missing Values:\n",
      "gender                         0\n",
      "race/ethnicity                 0\n",
      "parental level of education    0\n",
      "lunch                          0\n",
      "test preparation course        0\n",
      "math score                     0\n",
      "reading score                  0\n",
      "writing score                  0\n",
      "dtype: int64\n",
      "\n",
      "Summary Statistics:\n",
      "       math score  reading score  writing score\n",
      "count  1000.00000    1000.000000    1000.000000\n",
      "mean     66.08900      69.169000      68.054000\n",
      "std      15.16308      14.600192      15.195657\n",
      "min       0.00000      17.000000      10.000000\n",
      "25%      57.00000      59.000000      57.750000\n",
      "50%      66.00000      70.000000      69.000000\n",
      "75%      77.00000      79.000000      79.000000\n",
      "max     100.00000     100.000000     100.000000\n"
     ]
    }
   ],
   "source": [
    "import pandas as pd\n",
    "\n",
    "# Load the dataset\n",
    "data = pd.read_csv(\"../Data_Preprocessing/raw_student_data.csv\")\n",
    "\n",
    "# Check for missing values\n",
    "missing_values = data.isnull().sum()\n",
    "print(\"Missing Values:\")\n",
    "print(missing_values)\n",
    "\n",
    "# Data Cleaning\n",
    "# (No specific cleaning needed in this example)\n",
    "\n",
    "# Data Exploration\n",
    "summary_stats = data.describe()\n",
    "print(\"\\nSummary Statistics:\")\n",
    "print(summary_stats)\n",
    "\n",
    "# Encoding Categorical Variables (One-Hot Encoding)\n",
    "data = pd.get_dummies(data, columns=[\"gender\", \"race/ethnicity\", \"parental level of education\", \"lunch\", \"test preparation course\"], drop_first=True)\n",
    "\n",
    "# Feature Engineering (Calculate Total Score)\n",
    "data['total score'] = data['math score'] + data['reading score'] + data['writing score']\n",
    "\n",
    "# Data Visualization and further exploration (You can add your visualization code here)\n",
    "\n",
    "# Train-Test Split (if you're building predictive models)\n",
    "from sklearn.model_selection import train_test_split\n",
    "\n",
    "X = data.drop('total score', axis=1)\n",
    "y = data['total score']\n",
    "\n",
    "X_train, X_test, y_train, y_test = train_test_split(X, y, test_size=0.2, random_state=42)\n",
    "\n",
    "# Save the preprocessed data\n",
    "data.to_csv(\"preprocessed_dataset.csv\", index=False)\n"
   ]
  }
 ],
 "metadata": {
  "kernelspec": {
   "display_name": "Python 3 (ipykernel)",
   "language": "python",
   "name": "python3"
  },
  "language_info": {
   "codemirror_mode": {
    "name": "ipython",
    "version": 3
   },
   "file_extension": ".py",
   "mimetype": "text/x-python",
   "name": "python",
   "nbconvert_exporter": "python",
   "pygments_lexer": "ipython3",
   "version": "3.11.5"
  }
 },
 "nbformat": 4,
 "nbformat_minor": 5
}
